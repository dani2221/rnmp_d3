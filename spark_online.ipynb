{
 "cells": [
  {
   "cell_type": "code",
   "execution_count": 1,
   "outputs": [],
   "source": [
    "import findspark\n",
    "findspark.init()"
   ],
   "metadata": {
    "collapsed": false
   }
  },
  {
   "cell_type": "code",
   "execution_count": 2,
   "outputs": [],
   "source": [
    "import os\n",
    "os.environ['PYSPARK_SUBMIT_ARGS'] = '--packages org.apache.spark:spark-sql-kafka-0-10_2.12:3.5.0 pyspark-shell'"
   ],
   "metadata": {
    "collapsed": false
   }
  },
  {
   "cell_type": "code",
   "execution_count": 3,
   "outputs": [
    {
     "name": "stdout",
     "output_type": "stream",
     "text": [
      ":: loading settings :: url = jar:file:/Users/danilonajkov/spark-3.5.0-bin-hadoop3/jars/ivy-2.5.1.jar!/org/apache/ivy/core/settings/ivysettings.xml\n"
     ]
    },
    {
     "name": "stderr",
     "output_type": "stream",
     "text": [
      "Ivy Default Cache set to: /Users/danilonajkov/.ivy2/cache\n",
      "The jars for the packages stored in: /Users/danilonajkov/.ivy2/jars\n",
      "org.apache.spark#spark-sql-kafka-0-10_2.12 added as a dependency\n",
      ":: resolving dependencies :: org.apache.spark#spark-submit-parent-6e19a816-30e1-42d7-859c-e64f85667a7c;1.0\n",
      "\tconfs: [default]\n",
      "\tfound org.apache.spark#spark-sql-kafka-0-10_2.12;3.5.0 in central\n",
      "\tfound org.apache.spark#spark-token-provider-kafka-0-10_2.12;3.5.0 in central\n",
      "\tfound org.apache.kafka#kafka-clients;3.4.1 in central\n",
      "\tfound org.lz4#lz4-java;1.8.0 in local-m2-cache\n",
      "\tfound org.xerial.snappy#snappy-java;1.1.10.3 in central\n",
      "\tfound org.slf4j#slf4j-api;2.0.7 in central\n",
      "\tfound org.apache.hadoop#hadoop-client-runtime;3.3.4 in central\n",
      "\tfound org.apache.hadoop#hadoop-client-api;3.3.4 in central\n",
      "\tfound commons-logging#commons-logging;1.1.3 in central\n",
      "\tfound com.google.code.findbugs#jsr305;3.0.0 in central\n",
      "\tfound org.apache.commons#commons-pool2;2.11.1 in central\n",
      ":: resolution report :: resolve 226ms :: artifacts dl 7ms\n",
      "\t:: modules in use:\n",
      "\tcom.google.code.findbugs#jsr305;3.0.0 from central in [default]\n",
      "\tcommons-logging#commons-logging;1.1.3 from central in [default]\n",
      "\torg.apache.commons#commons-pool2;2.11.1 from central in [default]\n",
      "\torg.apache.hadoop#hadoop-client-api;3.3.4 from central in [default]\n",
      "\torg.apache.hadoop#hadoop-client-runtime;3.3.4 from central in [default]\n",
      "\torg.apache.kafka#kafka-clients;3.4.1 from central in [default]\n",
      "\torg.apache.spark#spark-sql-kafka-0-10_2.12;3.5.0 from central in [default]\n",
      "\torg.apache.spark#spark-token-provider-kafka-0-10_2.12;3.5.0 from central in [default]\n",
      "\torg.lz4#lz4-java;1.8.0 from local-m2-cache in [default]\n",
      "\torg.slf4j#slf4j-api;2.0.7 from central in [default]\n",
      "\torg.xerial.snappy#snappy-java;1.1.10.3 from central in [default]\n",
      "\t---------------------------------------------------------------------\n",
      "\t|                  |            modules            ||   artifacts   |\n",
      "\t|       conf       | number| search|dwnlded|evicted|| number|dwnlded|\n",
      "\t---------------------------------------------------------------------\n",
      "\t|      default     |   11  |   0   |   0   |   0   ||   11  |   0   |\n",
      "\t---------------------------------------------------------------------\n",
      ":: retrieving :: org.apache.spark#spark-submit-parent-6e19a816-30e1-42d7-859c-e64f85667a7c\n",
      "\tconfs: [default]\n",
      "\t0 artifacts copied, 11 already retrieved (0kB/3ms)\n",
      "24/01/20 16:16:25 WARN NativeCodeLoader: Unable to load native-hadoop library for your platform... using builtin-java classes where applicable\n",
      "Setting default log level to \"WARN\".\n",
      "To adjust logging level use sc.setLogLevel(newLevel). For SparkR, use setLogLevel(newLevel).\n"
     ]
    }
   ],
   "source": [
    "from pyspark.sql import SparkSession\n",
    "from pyspark.ml import PipelineModel\n",
    "from pyspark.sql.functions import from_json, col\n",
    "from pyspark.sql.types import StructType, StructField, DoubleType, IntegerType\n",
    "\n",
    "\n",
    "spark = SparkSession.builder.appName(\"inference\").getOrCreate()"
   ],
   "metadata": {
    "collapsed": false
   }
  },
  {
   "cell_type": "code",
   "execution_count": 5,
   "metadata": {
    "collapsed": true
   },
   "outputs": [
    {
     "name": "stderr",
     "output_type": "stream",
     "text": [
      "24/01/20 16:17:26 WARN ResolveWriteToStream: spark.sql.adaptive.enabled is not supported in streaming DataFrames/Datasets and will be disabled.\n",
      "24/01/20 16:17:26 WARN SparkStringUtils: Truncated the string representation of a plan since it was too large. This behavior can be adjusted by setting 'spark.sql.debug.maxToStringFields'.\n",
      "24/01/20 16:17:26 WARN DAGScheduler: Broadcasting large task binary with size 13.4 MiB\n",
      "24/01/20 16:17:27 WARN AdminClientConfig: These configurations '[key.deserializer, value.deserializer, enable.auto.commit, max.poll.records, auto.offset.reset]' were supplied but are not used yet.\n",
      "24/01/20 16:17:28 WARN DAGScheduler: Broadcasting large task binary with size 13.4 MiB\n",
      "24/01/20 16:17:28 WARN DAGScheduler: Broadcasting large task binary with size 13.4 MiB\n",
      "24/01/20 16:17:30 WARN DAGScheduler: Broadcasting large task binary with size 13.4 MiB\n",
      "24/01/20 16:17:31 WARN DAGScheduler: Broadcasting large task binary with size 13.4 MiB\n",
      "24/01/20 16:17:33 WARN DAGScheduler: Broadcasting large task binary with size 13.4 MiB\n",
      "24/01/20 16:17:34 WARN DAGScheduler: Broadcasting large task binary with size 13.4 MiB\n",
      "24/01/20 16:17:35 WARN DAGScheduler: Broadcasting large task binary with size 13.4 MiB\n",
      "24/01/20 16:17:36 WARN DAGScheduler: Broadcasting large task binary with size 13.4 MiB\n",
      "24/01/20 16:17:37 WARN DAGScheduler: Broadcasting large task binary with size 13.4 MiB\n",
      "24/01/20 16:17:38 WARN DAGScheduler: Broadcasting large task binary with size 13.4 MiB\n",
      "24/01/20 16:17:40 WARN DAGScheduler: Broadcasting large task binary with size 13.4 MiB\n",
      "24/01/20 16:17:41 WARN DAGScheduler: Broadcasting large task binary with size 13.4 MiB\n",
      "24/01/20 16:17:43 WARN DAGScheduler: Broadcasting large task binary with size 13.4 MiB\n",
      "24/01/20 16:17:44 WARN DAGScheduler: Broadcasting large task binary with size 13.4 MiB\n",
      "24/01/20 16:17:45 WARN DAGScheduler: Broadcasting large task binary with size 13.4 MiB\n",
      "24/01/20 16:17:47 WARN DAGScheduler: Broadcasting large task binary with size 13.4 MiB\n",
      "24/01/20 16:17:49 WARN DAGScheduler: Broadcasting large task binary with size 13.4 MiB\n",
      "24/01/20 16:17:50 WARN DAGScheduler: Broadcasting large task binary with size 13.4 MiB\n",
      "24/01/20 16:17:51 WARN DAGScheduler: Broadcasting large task binary with size 13.4 MiB\n",
      "24/01/20 16:17:52 WARN DAGScheduler: Broadcasting large task binary with size 13.4 MiB\n",
      "24/01/20 16:17:53 WARN DAGScheduler: Broadcasting large task binary with size 13.4 MiB\n",
      "24/01/20 16:17:54 WARN DAGScheduler: Broadcasting large task binary with size 13.4 MiB\n",
      "24/01/20 16:17:55 WARN DAGScheduler: Broadcasting large task binary with size 13.4 MiB\n",
      "24/01/20 16:17:56 WARN DAGScheduler: Broadcasting large task binary with size 13.4 MiB\n",
      "24/01/20 16:17:57 WARN DAGScheduler: Broadcasting large task binary with size 13.4 MiB\n",
      "24/01/20 16:17:58 WARN DAGScheduler: Broadcasting large task binary with size 13.4 MiB\n",
      "24/01/20 16:17:59 WARN DAGScheduler: Broadcasting large task binary with size 13.4 MiB\n",
      "24/01/20 16:18:00 WARN DAGScheduler: Broadcasting large task binary with size 13.4 MiB\n",
      "24/01/20 16:18:02 WARN DAGScheduler: Broadcasting large task binary with size 13.4 MiB\n",
      "24/01/20 16:18:03 WARN DAGScheduler: Broadcasting large task binary with size 13.4 MiB\n",
      "24/01/20 16:18:05 WARN DAGScheduler: Broadcasting large task binary with size 13.4 MiB\n",
      "24/01/20 16:18:05 WARN DAGScheduler: Broadcasting large task binary with size 13.4 MiB\n",
      "24/01/20 16:18:07 WARN DAGScheduler: Broadcasting large task binary with size 13.4 MiB\n",
      "24/01/20 16:18:09 WARN DAGScheduler: Broadcasting large task binary with size 13.4 MiB\n",
      "24/01/20 16:18:10 WARN DAGScheduler: Broadcasting large task binary with size 13.4 MiB\n",
      "24/01/20 16:18:11 WARN DAGScheduler: Broadcasting large task binary with size 13.4 MiB\n",
      "24/01/20 16:18:13 WARN DAGScheduler: Broadcasting large task binary with size 13.4 MiB\n",
      "24/01/20 16:18:14 WARN DAGScheduler: Broadcasting large task binary with size 13.4 MiB\n",
      "24/01/20 16:18:15 WARN DAGScheduler: Broadcasting large task binary with size 13.4 MiB\n",
      "24/01/20 16:18:15 WARN DAGScheduler: Broadcasting large task binary with size 13.4 MiB\n",
      "24/01/20 16:18:16 WARN DAGScheduler: Broadcasting large task binary with size 13.4 MiB\n",
      "24/01/20 16:18:17 WARN DAGScheduler: Broadcasting large task binary with size 13.4 MiB\n",
      "24/01/20 16:18:19 WARN DAGScheduler: Broadcasting large task binary with size 13.4 MiB\n",
      "24/01/20 16:18:20 WARN DAGScheduler: Broadcasting large task binary with size 13.4 MiB\n",
      "24/01/20 16:18:21 WARN DAGScheduler: Broadcasting large task binary with size 13.4 MiB\n",
      "24/01/20 16:18:23 WARN DAGScheduler: Broadcasting large task binary with size 13.4 MiB\n",
      "24/01/20 16:18:25 WARN DAGScheduler: Broadcasting large task binary with size 13.4 MiB\n",
      "24/01/20 16:18:26 WARN DAGScheduler: Broadcasting large task binary with size 13.4 MiB\n",
      "24/01/20 16:18:27 WARN DAGScheduler: Broadcasting large task binary with size 13.4 MiB\n",
      "24/01/20 16:18:28 WARN DAGScheduler: Broadcasting large task binary with size 13.4 MiB\n",
      "ERROR:root:KeyboardInterrupt while sending command.                             \n",
      "Traceback (most recent call last):\n",
      "  File \"/Users/danilonajkov/spark-3.5.0-bin-hadoop3/python/lib/py4j-0.10.9.7-src.zip/py4j/java_gateway.py\", line 1038, in send_command\n",
      "    response = connection.send_command(command)\n",
      "  File \"/Users/danilonajkov/spark-3.5.0-bin-hadoop3/python/lib/py4j-0.10.9.7-src.zip/py4j/clientserver.py\", line 511, in send_command\n",
      "    answer = smart_decode(self.stream.readline()[:-1])\n",
      "  File \"/Library/Developer/CommandLineTools/Library/Frameworks/Python3.framework/Versions/3.9/lib/python3.9/socket.py\", line 704, in readinto\n",
      "    return self._sock.recv_into(b)\n",
      "KeyboardInterrupt\n",
      "24/01/20 16:18:29 WARN DAGScheduler: Broadcasting large task binary with size 13.4 MiB\n"
     ]
    },
    {
     "ename": "KeyboardInterrupt",
     "evalue": "",
     "output_type": "error",
     "traceback": [
      "\u001B[0;31m---------------------------------------------------------------------------\u001B[0m",
      "\u001B[0;31mKeyboardInterrupt\u001B[0m                         Traceback (most recent call last)",
      "Cell \u001B[0;32mIn[5], line 58\u001B[0m\n\u001B[1;32m     46\u001B[0m result_json_df \u001B[38;5;241m=\u001B[39m predictions \\\n\u001B[1;32m     47\u001B[0m     \u001B[38;5;241m.\u001B[39mselectExpr(\u001B[38;5;124m\"\u001B[39m\u001B[38;5;124mto_json(struct(*)) AS value\u001B[39m\u001B[38;5;124m\"\u001B[39m)\n\u001B[1;32m     49\u001B[0m stream_writer \u001B[38;5;241m=\u001B[39m result_json_df \\\n\u001B[1;32m     50\u001B[0m     \u001B[38;5;241m.\u001B[39mwriteStream \\\n\u001B[1;32m     51\u001B[0m     \u001B[38;5;241m.\u001B[39mformat(\u001B[38;5;124m\"\u001B[39m\u001B[38;5;124mkafka\u001B[39m\u001B[38;5;124m\"\u001B[39m) \\\n\u001B[0;32m   (...)\u001B[0m\n\u001B[1;32m     55\u001B[0m     \u001B[38;5;241m.\u001B[39moption(\u001B[38;5;124m\"\u001B[39m\u001B[38;5;124mcheckpointLocation\u001B[39m\u001B[38;5;124m\"\u001B[39m, \u001B[38;5;124m\"\u001B[39m\u001B[38;5;124mcheckpoints\u001B[39m\u001B[38;5;124m\"\u001B[39m) \\\n\u001B[1;32m     56\u001B[0m     \u001B[38;5;241m.\u001B[39mstart()\n\u001B[0;32m---> 58\u001B[0m \u001B[43mstream_writer\u001B[49m\u001B[38;5;241;43m.\u001B[39;49m\u001B[43mawaitTermination\u001B[49m\u001B[43m(\u001B[49m\u001B[43m)\u001B[49m\n",
      "File \u001B[0;32m~/spark-3.5.0-bin-hadoop3/python/pyspark/sql/streaming/query.py:221\u001B[0m, in \u001B[0;36mStreamingQuery.awaitTermination\u001B[0;34m(self, timeout)\u001B[0m\n\u001B[1;32m    219\u001B[0m     \u001B[38;5;28;01mreturn\u001B[39;00m \u001B[38;5;28mself\u001B[39m\u001B[38;5;241m.\u001B[39m_jsq\u001B[38;5;241m.\u001B[39mawaitTermination(\u001B[38;5;28mint\u001B[39m(timeout \u001B[38;5;241m*\u001B[39m \u001B[38;5;241m1000\u001B[39m))\n\u001B[1;32m    220\u001B[0m \u001B[38;5;28;01melse\u001B[39;00m:\n\u001B[0;32m--> 221\u001B[0m     \u001B[38;5;28;01mreturn\u001B[39;00m \u001B[38;5;28;43mself\u001B[39;49m\u001B[38;5;241;43m.\u001B[39;49m\u001B[43m_jsq\u001B[49m\u001B[38;5;241;43m.\u001B[39;49m\u001B[43mawaitTermination\u001B[49m\u001B[43m(\u001B[49m\u001B[43m)\u001B[49m\n",
      "File \u001B[0;32m~/spark-3.5.0-bin-hadoop3/python/lib/py4j-0.10.9.7-src.zip/py4j/java_gateway.py:1321\u001B[0m, in \u001B[0;36mJavaMember.__call__\u001B[0;34m(self, *args)\u001B[0m\n\u001B[1;32m   1314\u001B[0m args_command, temp_args \u001B[38;5;241m=\u001B[39m \u001B[38;5;28mself\u001B[39m\u001B[38;5;241m.\u001B[39m_build_args(\u001B[38;5;241m*\u001B[39margs)\n\u001B[1;32m   1316\u001B[0m command \u001B[38;5;241m=\u001B[39m proto\u001B[38;5;241m.\u001B[39mCALL_COMMAND_NAME \u001B[38;5;241m+\u001B[39m\\\n\u001B[1;32m   1317\u001B[0m     \u001B[38;5;28mself\u001B[39m\u001B[38;5;241m.\u001B[39mcommand_header \u001B[38;5;241m+\u001B[39m\\\n\u001B[1;32m   1318\u001B[0m     args_command \u001B[38;5;241m+\u001B[39m\\\n\u001B[1;32m   1319\u001B[0m     proto\u001B[38;5;241m.\u001B[39mEND_COMMAND_PART\n\u001B[0;32m-> 1321\u001B[0m answer \u001B[38;5;241m=\u001B[39m \u001B[38;5;28;43mself\u001B[39;49m\u001B[38;5;241;43m.\u001B[39;49m\u001B[43mgateway_client\u001B[49m\u001B[38;5;241;43m.\u001B[39;49m\u001B[43msend_command\u001B[49m\u001B[43m(\u001B[49m\u001B[43mcommand\u001B[49m\u001B[43m)\u001B[49m\n\u001B[1;32m   1322\u001B[0m return_value \u001B[38;5;241m=\u001B[39m get_return_value(\n\u001B[1;32m   1323\u001B[0m     answer, \u001B[38;5;28mself\u001B[39m\u001B[38;5;241m.\u001B[39mgateway_client, \u001B[38;5;28mself\u001B[39m\u001B[38;5;241m.\u001B[39mtarget_id, \u001B[38;5;28mself\u001B[39m\u001B[38;5;241m.\u001B[39mname)\n\u001B[1;32m   1325\u001B[0m \u001B[38;5;28;01mfor\u001B[39;00m temp_arg \u001B[38;5;129;01min\u001B[39;00m temp_args:\n",
      "File \u001B[0;32m~/spark-3.5.0-bin-hadoop3/python/lib/py4j-0.10.9.7-src.zip/py4j/java_gateway.py:1038\u001B[0m, in \u001B[0;36mGatewayClient.send_command\u001B[0;34m(self, command, retry, binary)\u001B[0m\n\u001B[1;32m   1036\u001B[0m connection \u001B[38;5;241m=\u001B[39m \u001B[38;5;28mself\u001B[39m\u001B[38;5;241m.\u001B[39m_get_connection()\n\u001B[1;32m   1037\u001B[0m \u001B[38;5;28;01mtry\u001B[39;00m:\n\u001B[0;32m-> 1038\u001B[0m     response \u001B[38;5;241m=\u001B[39m \u001B[43mconnection\u001B[49m\u001B[38;5;241;43m.\u001B[39;49m\u001B[43msend_command\u001B[49m\u001B[43m(\u001B[49m\u001B[43mcommand\u001B[49m\u001B[43m)\u001B[49m\n\u001B[1;32m   1039\u001B[0m     \u001B[38;5;28;01mif\u001B[39;00m binary:\n\u001B[1;32m   1040\u001B[0m         \u001B[38;5;28;01mreturn\u001B[39;00m response, \u001B[38;5;28mself\u001B[39m\u001B[38;5;241m.\u001B[39m_create_connection_guard(connection)\n",
      "File \u001B[0;32m~/spark-3.5.0-bin-hadoop3/python/lib/py4j-0.10.9.7-src.zip/py4j/clientserver.py:511\u001B[0m, in \u001B[0;36mClientServerConnection.send_command\u001B[0;34m(self, command)\u001B[0m\n\u001B[1;32m    509\u001B[0m \u001B[38;5;28;01mtry\u001B[39;00m:\n\u001B[1;32m    510\u001B[0m     \u001B[38;5;28;01mwhile\u001B[39;00m \u001B[38;5;28;01mTrue\u001B[39;00m:\n\u001B[0;32m--> 511\u001B[0m         answer \u001B[38;5;241m=\u001B[39m smart_decode(\u001B[38;5;28;43mself\u001B[39;49m\u001B[38;5;241;43m.\u001B[39;49m\u001B[43mstream\u001B[49m\u001B[38;5;241;43m.\u001B[39;49m\u001B[43mreadline\u001B[49m\u001B[43m(\u001B[49m\u001B[43m)\u001B[49m[:\u001B[38;5;241m-\u001B[39m\u001B[38;5;241m1\u001B[39m])\n\u001B[1;32m    512\u001B[0m         logger\u001B[38;5;241m.\u001B[39mdebug(\u001B[38;5;124m\"\u001B[39m\u001B[38;5;124mAnswer received: \u001B[39m\u001B[38;5;132;01m{0}\u001B[39;00m\u001B[38;5;124m\"\u001B[39m\u001B[38;5;241m.\u001B[39mformat(answer))\n\u001B[1;32m    513\u001B[0m         \u001B[38;5;66;03m# Happens when a the other end is dead. There might be an empty\u001B[39;00m\n\u001B[1;32m    514\u001B[0m         \u001B[38;5;66;03m# answer before the socket raises an error.\u001B[39;00m\n",
      "File \u001B[0;32m/Library/Developer/CommandLineTools/Library/Frameworks/Python3.framework/Versions/3.9/lib/python3.9/socket.py:704\u001B[0m, in \u001B[0;36mSocketIO.readinto\u001B[0;34m(self, b)\u001B[0m\n\u001B[1;32m    702\u001B[0m \u001B[38;5;28;01mwhile\u001B[39;00m \u001B[38;5;28;01mTrue\u001B[39;00m:\n\u001B[1;32m    703\u001B[0m     \u001B[38;5;28;01mtry\u001B[39;00m:\n\u001B[0;32m--> 704\u001B[0m         \u001B[38;5;28;01mreturn\u001B[39;00m \u001B[38;5;28;43mself\u001B[39;49m\u001B[38;5;241;43m.\u001B[39;49m\u001B[43m_sock\u001B[49m\u001B[38;5;241;43m.\u001B[39;49m\u001B[43mrecv_into\u001B[49m\u001B[43m(\u001B[49m\u001B[43mb\u001B[49m\u001B[43m)\u001B[49m\n\u001B[1;32m    705\u001B[0m     \u001B[38;5;28;01mexcept\u001B[39;00m timeout:\n\u001B[1;32m    706\u001B[0m         \u001B[38;5;28mself\u001B[39m\u001B[38;5;241m.\u001B[39m_timeout_occurred \u001B[38;5;241m=\u001B[39m \u001B[38;5;28;01mTrue\u001B[39;00m\n",
      "\u001B[0;31mKeyboardInterrupt\u001B[0m: "
     ]
    }
   ],
   "source": [
    "loaded_model = PipelineModel.load(\"best_model\")\n",
    "\n",
    "schema = StructType([\n",
    "    StructField(\"Id\", DoubleType()),\n",
    "    StructField(\"Diabetes_binary\", DoubleType()),\n",
    "    StructField(\"HighBP\", DoubleType()),\n",
    "    StructField(\"HighChol\", DoubleType()),\n",
    "    StructField(\"CholCheck\", DoubleType()),\n",
    "    StructField(\"BMI\", DoubleType()),\n",
    "    StructField(\"Smoker\", DoubleType()),\n",
    "    StructField(\"Stroke\", DoubleType()),\n",
    "    StructField(\"HeartDiseaseorAttack\", DoubleType()),\n",
    "    StructField(\"PhysActivity\", DoubleType()),\n",
    "    StructField(\"Fruits\", DoubleType()),\n",
    "    StructField(\"Veggies\", DoubleType()),\n",
    "    StructField(\"HvyAlcoholConsump\", DoubleType()),\n",
    "    StructField(\"AnyHealthcare\", DoubleType()),\n",
    "    StructField(\"NoDocbcCost\", DoubleType()),\n",
    "    StructField(\"GenHlth\", DoubleType()),\n",
    "    StructField(\"MentHlth\", DoubleType()),\n",
    "    StructField(\"PhysHlth\", DoubleType()),\n",
    "    StructField(\"DiffWalk\", DoubleType()),\n",
    "    StructField(\"Sex\", DoubleType()),\n",
    "    StructField(\"Age\", DoubleType()),\n",
    "    StructField(\"Education\", DoubleType()),\n",
    "    StructField(\"Income\", DoubleType())\n",
    "])\n",
    "\n",
    "\n",
    "kafka_df = spark \\\n",
    "    .readStream \\\n",
    "    .format(\"kafka\") \\\n",
    "    .option(\"kafka.bootstrap.servers\", \"localhost:29092\") \\\n",
    "    .option(\"subscribe\", \"health_data\") \\\n",
    "    .load()\n",
    "\n",
    "parsed_df = kafka_df \\\n",
    "    .selectExpr(\"CAST(value AS STRING) AS jsonString\") \\\n",
    "    .select(from_json(col(\"jsonString\"), schema).alias(\"data\")) \\\n",
    "    .select(\"data.*\")\n",
    "\n",
    "predictions = loaded_model.transform(parsed_df)\n",
    "\n",
    "predictions = predictions.drop(\"features\", \"indexedFeatures\", \"rawPrediction\", \"probability\")\n",
    "\n",
    "result_json_df = predictions \\\n",
    "    .selectExpr(\"to_json(struct(*)) AS value\")\n",
    "\n",
    "stream_writer = result_json_df \\\n",
    "    .writeStream \\\n",
    "    .format(\"kafka\") \\\n",
    "    .option(\"kafka.bootstrap.servers\", \"localhost:29092\") \\\n",
    "    .option(\"topic\", \"health_data_predicted\") \\\n",
    "    .outputMode(\"append\") \\\n",
    "    .option(\"checkpointLocation\", \"checkpoints\") \\\n",
    "    .start()\n",
    "\n",
    "stream_writer.awaitTermination()"
   ]
  },
  {
   "cell_type": "code",
   "execution_count": null,
   "outputs": [],
   "source": [],
   "metadata": {
    "collapsed": false
   }
  }
 ],
 "metadata": {
  "kernelspec": {
   "display_name": "Python 3",
   "language": "python",
   "name": "python3"
  },
  "language_info": {
   "codemirror_mode": {
    "name": "ipython",
    "version": 2
   },
   "file_extension": ".py",
   "mimetype": "text/x-python",
   "name": "python",
   "nbconvert_exporter": "python",
   "pygments_lexer": "ipython2",
   "version": "2.7.6"
  }
 },
 "nbformat": 4,
 "nbformat_minor": 0
}
